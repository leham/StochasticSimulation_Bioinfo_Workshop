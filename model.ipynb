{
 "cells": [
  {
   "cell_type": "code",
   "execution_count": null,
   "id": "0",
   "metadata": {},
   "outputs": [],
   "source": [
    "using Catalyst\n",
    "using OrdinaryDiffEq\n",
    "using JumpProcesses\n",
    "using DiffEqCallbacks\n",
    "using Random\n",
    "using Distributions\n",
    "using LogExpFunctions\n",
    "using PyPlot"
   ]
  },
  {
   "cell_type": "code",
   "execution_count": null,
   "id": "1",
   "metadata": {},
   "outputs": [],
   "source": [
    "function signal_conc(t)\n",
    "    return 4e-3 * logistic(10t - 30) * logistic(60 - 10t)\n",
    "end"
   ]
  },
  {
   "cell_type": "code",
   "execution_count": null,
   "id": "2",
   "metadata": {},
   "outputs": [],
   "source": [
    "tt = 0:0.01:20\n",
    "plt.plot(tt, signal_conc.(tt))"
   ]
  },
  {
   "cell_type": "code",
   "execution_count": null,
   "id": "3",
   "metadata": {},
   "outputs": [],
   "source": [
    "rn = @reaction_network begin\n",
    "    # Use a Michaelis-Menten reaction to activate the gene\n",
    "    mm(signal_conc(t), σ_on, K_m),  G_off --> G_on \n",
    "    σ_off , G_on --> G_off       # Gene deactivation rate\n",
    "    \n",
    "    ρ_m, G_on --> G_on + M       # mRNA transcription \n",
    "    δ_m, M --> 0                 # mRNA degradation\n",
    "    ρ_p, M --> M + P         # volume-dependent translation\n",
    "    δ_p, P --> 0                 # protein degradation \n",
    "end"
   ]
  },
  {
   "cell_type": "code",
   "execution_count": null,
   "id": "4",
   "metadata": {},
   "outputs": [],
   "source": [
    "p = [ # Telegraph switching rates\n",
    "      :σ_on => 1,\n",
    "      :K_m => 5e-3,\n",
    "      :σ_off => 0.2,        \n",
    "\n",
    "      # mRNA production & degradation rates\n",
    "      :ρ_m => 3,             \n",
    "      :δ_m => 0.5,\n",
    "    \n",
    "      # Protein production & degradation rates\n",
    "      :ρ_p => 20,             \n",
    "      :δ_p => 1\n",
    "]\n",
    "\n",
    "u0 = [  \n",
    "       :G_on => 0,\n",
    "       :G_off => 1,\n",
    "       :M => 0,\n",
    "       :P => 0 \n",
    "]\n",
    "\n",
    "tmax = 20.\n",
    "doubling_time = 7"
   ]
  },
  {
   "cell_type": "code",
   "execution_count": null,
   "id": "5",
   "metadata": {},
   "outputs": [],
   "source": [
    "function divide!(int)   \n",
    "    # mRNA and proteins are divided randomly between the daughters\n",
    "    # We can access variables using bracket notation\n",
    "    int[:M] = rand(Binomial(int[:M], 0.5))\n",
    "    int[:P] = rand(Binomial(int[:P], 0.5))\n",
    "end\n",
    "\n",
    "cb_divide = PeriodicCallback(divide!, doubling_time);"
   ]
  },
  {
   "cell_type": "code",
   "execution_count": null,
   "id": "6",
   "metadata": {},
   "outputs": [],
   "source": [
    "jinp = JumpInputs(rn, u0, (0, tmax), p)"
   ]
  },
  {
   "cell_type": "code",
   "execution_count": null,
   "id": "7",
   "metadata": {},
   "outputs": [],
   "source": [
    "prob = JumpProblem(jinp, Direct())"
   ]
  },
  {
   "cell_type": "code",
   "execution_count": null,
   "id": "8",
   "metadata": {},
   "outputs": [],
   "source": [
    "sol = solve(prob, Tsit5(); callback=cb_divide);"
   ]
  },
  {
   "cell_type": "code",
   "execution_count": null,
   "id": "9",
   "metadata": {},
   "outputs": [],
   "source": [
    "plt.plot(sol.t, sol[:G_on])"
   ]
  },
  {
   "cell_type": "code",
   "execution_count": null,
   "id": "10",
   "metadata": {},
   "outputs": [],
   "source": [
    "plt.plot(sol.t, sol[:M])"
   ]
  },
  {
   "cell_type": "code",
   "execution_count": null,
   "id": "11",
   "metadata": {},
   "outputs": [],
   "source": [
    "plt.plot(sol.t, sol[:P])"
   ]
  },
  {
   "cell_type": "code",
   "execution_count": null,
   "id": "12",
   "metadata": {},
   "outputs": [],
   "source": []
  }
 ],
 "metadata": {
  "kernelspec": {
   "display_name": "Julia 1.11.0",
   "language": "julia",
   "name": "julia-1.11"
  },
  "language_info": {
   "file_extension": ".jl",
   "mimetype": "application/julia",
   "name": "julia",
   "version": "1.11.0"
  }
 },
 "nbformat": 4,
 "nbformat_minor": 5
}
