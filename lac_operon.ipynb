{
 "cells": [
  {
   "cell_type": "code",
   "execution_count": null,
   "id": "761cf53e",
   "metadata": {},
   "outputs": [],
   "source": [
    "using Pkg; Pkg.activate(\".\")"
   ]
  },
  {
   "cell_type": "code",
   "execution_count": null,
   "id": "dd899cc8-de7e-474d-a529-dda7e4de077d",
   "metadata": {},
   "outputs": [],
   "source": [
    "using JumpProcesses\n",
    "using OrdinaryDiffEq\n",
    "using DiffEqCallbacks\n",
    "using Catalyst\n",
    "using ModelingToolkit\n",
    "using Random\n",
    "using Distributions\n",
    "using LogExpFunctions\n",
    "using Plots\n",
    "using StatsBase"
   ]
  },
  {
   "cell_type": "markdown",
   "id": "c0209508",
   "metadata": {},
   "source": [
    "# Lac operon"
   ]
  },
  {
   "cell_type": "markdown",
   "id": "c3f526c5",
   "metadata": {},
   "source": [
    "Simplified model of lac operon mostly inspired by [this textbook](https://www.math.uwaterloo.ca/~bingalls/MMSB/Notes.pdf#page=207.68)."
   ]
  },
  {
   "cell_type": "code",
   "execution_count": null,
   "id": "11d948da",
   "metadata": {},
   "outputs": [],
   "source": [
    "# extracellular lactose concentration as a time-dependent function\n",
    "function lactose_conc(max_conc, t)\n",
    "    return max_conc * logistic(10t - 60) * logistic(120 - 10t)\n",
    "end"
   ]
  },
  {
   "cell_type": "code",
   "execution_count": null,
   "id": "0d3e9b8f",
   "metadata": {},
   "outputs": [],
   "source": [
    "rn = @reaction_network begin\n",
    "    # lac repressor R binding switches the gene off, but allolactose A can bind to the repressor\n",
    "    # and inactivate it, making it unable to repress the gene promoter\n",
    "    mmr(A, σ_off, K_off), G_on --> G_off    # Gene deactivation rate\n",
    "    σ_on, G_off --> G_on                    # Gene activation rate\n",
    "\n",
    "    ρ_m, G_on --> G_on + M          # mRNA transcription \n",
    "    δ_m, M --> 0                    # mRNA degradation\n",
    "\n",
    "    ρ_p, M --> M + P_Y + P_Z        # volume-dependent translation\n",
    "    δ_p, P_Z --> 0                  # protein degradation for lacZ (β-galactosidase)\n",
    "    δ_p, P_Y --> 0                  # protein degradation for lacY (β-galactoside permease)\n",
    "\n",
    "    mm(lactose_conc(max_conc, t), k_L, K_ML), P_Y --> P_Y + L # lactose uptake catalysed by the β-galactoside permease\n",
    "    \n",
    "    mm(P_Z, k_A, K_MA), L --> A      # catalysed by β-galactosidase\n",
    "    mm(P_Z, k_A, K_MA), L --> 0      # lactose metabolised into simpler sugars (catalysed by β-galactosidase)\n",
    "    mm(P_Z, k_A, K_MA), A --> 0      # allolactose metabolised into simpler sugars (catalysed by β-galactosidase)\n",
    "    δ_L, L --> 0                     # dilution of lactose\n",
    "    δ_L, A --> 0                     # dilution of allolactose\n",
    "end"
   ]
  },
  {
   "cell_type": "code",
   "execution_count": null,
   "id": "064b54d5",
   "metadata": {},
   "outputs": [],
   "source": [
    "p = [ # Telegraph switching rates\n",
    "     :σ_on => 10,\n",
    "     :σ_off => 200,\n",
    "     :K_off => 0.01,\n",
    "\n",
    "      # mRNA production & degradation rates\n",
    "     :ρ_m => 5,             \n",
    "     :δ_m => 2.0,\n",
    "    \n",
    "      # Protein production & degradation rates\n",
    "     :ρ_p => 5,             \n",
    "     :δ_p => 0.5,\n",
    "    \n",
    "     # Lactose uptake & degradation rates\n",
    "     :k_L => 10.0, \n",
    "     :K_ML => 0.5,\n",
    "     :δ_L => 0.2,\n",
    "    \n",
    "     # Lactose metabolisation & allolactose production\n",
    "     :k_A => 10,\n",
    "     :K_MA => 10,\n",
    "     :max_conc => 10.0\n",
    "]\n",
    "\n",
    "u0 = [ \n",
    "       :G_on => 0,\n",
    "       :G_off => 1,\n",
    "       :M => 0,\n",
    "       :P_Y => 0,\n",
    "       :P_Z => 0,\n",
    "       :L => 0,\n",
    "       :A => 0\n",
    "    ]\n",
    "\n",
    "tmax = 30.0\n",
    "tspan = (0, tmax)\n",
    "ts = 0:0.1:tmax;"
   ]
  },
  {
   "cell_type": "code",
   "execution_count": null,
   "id": "925a667d",
   "metadata": {},
   "outputs": [],
   "source": [
    "#ps = Dict(p)\n",
    "#plot(ts, lactose_conc.(ts))\n",
    "#plot(ts, mm.( lactose_conc.(ps[:max_conc], ts), ps[:k_L], ps[:K_ML]))\n",
    "\n",
    "#plot(0:50 .* maximum(mm.(lactose_conc.(ts), ps[:k_L], ps[:K_ML])))\n",
    "\n",
    "#plot(mmr.(0:50, ps[:σ_off], ps[:K_off]))\n",
    "#plot(mm.(0:50, ps[:k_A], ps[:K_MA]), label=\"\", xlabel=\"Number of P_Z molecules\", ylabel=\"Rate\")"
   ]
  },
  {
   "cell_type": "markdown",
   "id": "e49babfe",
   "metadata": {},
   "source": [
    "## Deterministic rate equations"
   ]
  },
  {
   "cell_type": "code",
   "execution_count": null,
   "id": "210e6b28",
   "metadata": {},
   "outputs": [],
   "source": [
    "oprob = ODEProblem(rn, u0, (0, tmax), p)\n",
    "sol = solve(oprob, Tsit5(), saveat=ts);"
   ]
  },
  {
   "cell_type": "code",
   "execution_count": null,
   "id": "dd8b9d8c",
   "metadata": {},
   "outputs": [],
   "source": [
    "plot(sol.t, sol[:M], label=\"M\")\n",
    "plot!(sol.t, sol[:P_Y], label=\"P_Y\")\n",
    "plot!(sol.t, sol[:P_Z], label=\"P_Z\")\n",
    "plot!(sol.t, sol[:L], label=\"L\", linewidth=3)\n",
    "plot!(sol.t, sol[:A], label=\"A\", linewidth=3)"
   ]
  },
  {
   "cell_type": "markdown",
   "id": "2f5b2613",
   "metadata": {},
   "source": [
    "## SSA trajectories"
   ]
  },
  {
   "cell_type": "code",
   "execution_count": null,
   "id": "3faba0e6",
   "metadata": {},
   "outputs": [],
   "source": [
    "jinp = JumpInputs(rn, u0, tspan, p)\n",
    "jprob = JumpProblem(jinp, Direct(), save_positions=(false, false));"
   ]
  },
  {
   "cell_type": "code",
   "execution_count": null,
   "id": "7a031dc6",
   "metadata": {},
   "outputs": [],
   "source": [
    "jprob = remake(jprob, p = p)\n",
    "@time sol = solve(jprob, Tsit5(), saveat=ts)\n",
    "plot(sol.t, sol[:M], label=\"M\")\n",
    "plot!(sol.t, sol[:P_Y], label=\"P_Y\")\n",
    "plot!(sol.t, sol[:P_Z], label=\"P_Z\")\n",
    "plot!(sol.t, sol[:L], label=\"L\", linewidth=3)\n",
    "plot!(sol.t, sol[:A], label=\"A\", linewidth=3)"
   ]
  },
  {
   "cell_type": "code",
   "execution_count": null,
   "id": "d7f5bf07",
   "metadata": {},
   "outputs": [],
   "source": [
    "ensembleprob = EnsembleProblem(jprob)\n",
    "@time ensemble_sol = solve(ensembleprob, Tsit5(), trajectories=100);"
   ]
  },
  {
   "cell_type": "code",
   "execution_count": null,
   "id": "b464e25f",
   "metadata": {},
   "outputs": [],
   "source": [
    "@time ensemble_sol = solve(ensembleprob, Tsit5(), trajectories=1000);"
   ]
  },
  {
   "cell_type": "markdown",
   "id": "b1ecf218",
   "metadata": {},
   "source": [
    "Functions to plot means, variances and distributions (at certain time)"
   ]
  },
  {
   "cell_type": "code",
   "execution_count": null,
   "id": "ebfb2c47",
   "metadata": {},
   "outputs": [],
   "source": [
    "# Compute the mean over the ensemble trajectories for the given species at times ts\n",
    "function get_mean(sol::EnsembleSolution, sym::Symbol, ts::AbstractArray)\n",
    "    ms = Vector{Float64}(undef, length(ts))\n",
    "    for i in eachindex(ts)\n",
    "        ms[i] = mean(sol[j](ts[i], idxs=sym) for j in eachindex(sol))\n",
    "    end\n",
    "    ms\n",
    "end\n",
    "\n",
    "# Compute the variance over the ensemble trajectories for the given species at times ts\n",
    "function get_var(sol::EnsembleSolution, sym::Symbol, ts::AbstractArray)\n",
    "    ms = Vector{Float64}(undef, length(ts))\n",
    "    for i in eachindex(ts)\n",
    "        ms[i] = var(sol[j](ts[i], idxs=sym) for j in eachindex(sol))\n",
    "    end\n",
    "    ms\n",
    "end"
   ]
  },
  {
   "cell_type": "code",
   "execution_count": null,
   "id": "e3c680d0",
   "metadata": {},
   "outputs": [],
   "source": [
    "# Fit histogram to a given array of discrete counts\n",
    "function fit_hist(ys::AbstractArray)\n",
    "    max_y = maximum(ys)\n",
    "    ws = fit(Histogram, ys, 0:max_y+1, closed=:left)\n",
    "    ws = FrequencyWeights(ws.weights)\n",
    "    0:max_y, ws\n",
    "end\n",
    "\n",
    "# Compute the distribution over the ensemble trajectories for the given species at a time point t\n",
    "function get_dist(sol::EnsembleSolution, sym::Symbol, t::Real)\n",
    "    ys = [sol[j](t, idxs=sym) for j in eachindex(sol)]\n",
    "    fit_hist(ys)\n",
    "end\n",
    "\n",
    "# Plot the distribution over the ensemble trajectories for the given species at a time point t\n",
    "function plot_dist(sol::EnsembleSolution, sym::Symbol, t::Real; kwargs...)\n",
    "    _, ws = get_dist(sol, sym, t)\n",
    "    xmax = length(ws)\n",
    "    xs = 0:xmax\n",
    "    ys = ws ./ ws.sum\n",
    "    ys = vcat(ys, 0)\n",
    "    plot(xs .- 0.5, zeros(xmax+1), linetype=:steppost, fillrange=ys; kwargs...)\n",
    "end"
   ]
  },
  {
   "cell_type": "code",
   "execution_count": null,
   "id": "9cacf434",
   "metadata": {},
   "outputs": [],
   "source": [
    "plot(ts, get_mean(ensemble_sol, :P_Z, ts), xlabel=\"Time\", ylabel=\"Mean\", label=\"β-galactosidase P_Z\")\n",
    "plot!(ts, get_mean(ensemble_sol, :L, ts), label=\"Lactose L\")\n",
    "#plot!(ts, get_mean(ensemble_sol, :A, ts), label=\"Allolactose A\")"
   ]
  },
  {
   "cell_type": "code",
   "execution_count": null,
   "id": "b6d9b208",
   "metadata": {},
   "outputs": [],
   "source": [
    "plot_dist(ensemble_sol, :P_Y, 5.0, xlabel=\"Counts\", ylabel=\"Probability\", label=\"\")"
   ]
  },
  {
   "cell_type": "code",
   "execution_count": null,
   "id": "0bda4ec5",
   "metadata": {},
   "outputs": [],
   "source": [
    "pl1 = plot_dist(ensemble_sol, :P_Y, 5.0, xlabel=\"\", ylabel=\"Probability\", label=\"\")\n",
    "pl2 = plot_dist(ensemble_sol, :P_Y, 15.5, xlabel=\"\", ylabel=\"\", label=\"\")\n",
    "pl3 = plot_dist(ensemble_sol, :P_Y, 19.0, xlabel=\"Counts\", ylabel=\"Probability\", label=\"\")\n",
    "pl4 = plot_dist(ensemble_sol, :P_Y, 28.0, xlabel=\"Counts\", ylabel=\"\", label=\"\")\n",
    "plot(pl1, pl2, pl3, pl4)"
   ]
  }
 ],
 "metadata": {
  "kernelspec": {
   "display_name": "Julia (8 threads) 1.10.4",
   "language": "julia",
   "name": "julia-_8-threads_-1.10"
  },
  "language_info": {
   "file_extension": ".jl",
   "mimetype": "application/julia",
   "name": "julia",
   "version": "1.10.4"
  }
 },
 "nbformat": 4,
 "nbformat_minor": 5
}
