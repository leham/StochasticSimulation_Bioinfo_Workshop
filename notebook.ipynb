{
 "cells": [
  {
   "cell_type": "markdown",
   "id": "0",
   "metadata": {},
   "source": [
    "# The fundamentals of whole-cell modelling: stochastic simulation with Julia"
   ]
  },
  {
   "cell_type": "markdown",
   "id": "1",
   "metadata": {},
   "source": [
    "In this notebook we will construct a simple model of gene expression in Julia, step by step. \n",
    "\n",
    "### What is Julia?\n",
    "\n",
    "Julia is a relatively young programming language that has become very popular in numerical and scientific computing due to its simplicity and performance. If you have used Python or Matlab before, you should find Julia's syntax very familiar. \n",
    "\n",
    "It also boasts a rich infrastructure for scientific computing that approaches C/C++ in performance, while being more user-friendly in general. In this notebook we will introduce the package [Catalyst.jl](https://github.com/SciML/Catalyst.jl), which allows us to model chemical reaction networks within Julia. We also make use of [DifferentialEquations.jl](https://docs.sciml.ai/DiffEqDocs/stable/), which provides efficient solvers for most kinds of differential equations one is likely to encounter in scientific modelling."
   ]
  },
  {
   "cell_type": "markdown",
   "id": "2",
   "metadata": {},
   "source": [
    "You can download and install Julia from the [official website](https://julialang.org/). "
   ]
  },
  {
   "cell_type": "markdown",
   "id": "3",
   "metadata": {},
   "source": [
    "### Setting up the environment"
   ]
  },
  {
   "cell_type": "markdown",
   "id": "4",
   "metadata": {},
   "source": [
    "Julia's built-in package manager allows us to download and install packages from within Julia. To avoid situations where different projects require different, incompatible package versions, we recommend running this notebook inside its own environment. The following code will create a new environment in the project directory and install the packages we will need for this project:"
   ]
  },
  {
   "cell_type": "code",
   "execution_count": null,
   "id": "5",
   "metadata": {
    "jupyter": {
     "outputs_hidden": true
    }
   },
   "outputs": [],
   "source": [
    "using Pkg             # Load the package manager\n",
    "\n",
    "Pkg.activate(\".\")     # Create a new environment in the current working directory\n",
    "\n",
    "# Install the packages we need\n",
    "Pkg.add([ \"Catalyst\", \"DifferentialEquations\", \"Plots\", \"Random\", \"Distributions\" ])"
   ]
  },
  {
   "cell_type": "markdown",
   "id": "6",
   "metadata": {},
   "source": [
    "Unlike Python, but like R, Julia frequently needs to precompile its packages. This may take a while, so we suggest installing all packages before the workshop."
   ]
  },
  {
   "cell_type": "markdown",
   "id": "7",
   "metadata": {},
   "source": [
    "**Note:** Catalyst.jl is currently in active development. To make use of all of its features we recommend running this notebook using Catalyst v14."
   ]
  },
  {
   "cell_type": "markdown",
   "id": "8",
   "metadata": {},
   "source": [
    "## A simple model of gene expression"
   ]
  },
  {
   "cell_type": "markdown",
   "id": "9",
   "metadata": {},
   "source": [
    "We load packages with the `using` keyword, analogous to Python's `import`:"
   ]
  },
  {
   "cell_type": "code",
   "execution_count": null,
   "id": "10",
   "metadata": {},
   "outputs": [],
   "source": [
    "using Catalyst"
   ]
  },
  {
   "cell_type": "markdown",
   "id": "11",
   "metadata": {},
   "source": [
    "Let us start with a very simple example where we model the production and degradation of mRNA (which we call $M$) for a single gene. We assume that $M$ is produced at a constant rate $\\rho_m$ and degraded with rate $\\delta_m$. The network can be visualised schematically as follows:"
   ]
  },
  {
   "cell_type": "markdown",
   "id": "12",
   "metadata": {},
   "source": [
    "![Birth-death model](figures/model_Poisson.svg)"
   ]
  },
  {
   "cell_type": "markdown",
   "id": "13",
   "metadata": {},
   "source": [
    "We implement this in Catalyst using the `@reaction_network` macro\\*, which takes a list of reactions and converts them into a reaction network in Julia. A *macro* is a way to introduce custom syntax into Julia. In this case, the macro `@reaction_network` allows us to specify a reaction network as a list of equations, which then get parsed and converted into ordinary Julia objects."
   ]
  },
  {
   "cell_type": "code",
   "execution_count": null,
   "id": "14",
   "metadata": {},
   "outputs": [],
   "source": [
    "rn = @reaction_network begin\n",
    "    ρ_m, 0 --> M    # mRNA production\n",
    "    δ_m, M --> 0    # mRNA degradation\n",
    "end"
   ]
  },
  {
   "cell_type": "markdown",
   "id": "15",
   "metadata": {},
   "source": [
    " Catalyst automatically figures out which variables correspond to species and which ones to parameters. <!--If we want to explicitly specify these, we can write -->\n",
    "<!-- ```julia\n",
    "@species M(t)\n",
    "@parameters ρ_m δ_m\n",
    "```\n",
    "within the reaction network. The notation `M(t)` tells us that $M$ is a time-dependent variable. -->"
   ]
  },
  {
   "cell_type": "markdown",
   "id": "16",
   "metadata": {},
   "source": [
    "We can convert this network directly into an ordinary differential equation (ODE) describing how mRNA numbers change over time. This is represented as an `ODESystem` in the Catalyst ecosystem."
   ]
  },
  {
   "cell_type": "code",
   "execution_count": null,
   "id": "17",
   "metadata": {},
   "outputs": [],
   "source": [
    "osys = convert(ODESystem, rn)"
   ]
  },
  {
   "cell_type": "markdown",
   "id": "18",
   "metadata": {},
   "source": [
    "As we can see, Catalyst took our symbolic description of the reaction network and converted it into a system of ODEs. If we want to simulate our system, we need to specify model parameters (the transcription rate $\\rho_m$ and degradation rate $\\delta_m$) and the initial conditions (what number of $M$ molecules we start with)."
   ]
  },
  {
   "cell_type": "code",
   "execution_count": null,
   "id": "19",
   "metadata": {},
   "outputs": [],
   "source": [
    "# Model parameters are given as a list of parameter-value pairs\n",
    "# The notation :var indicates that 'var' is the name of a variable.\n",
    "p = [ :ρ_m => 5, \n",
    "      :δ_m => 0.5 ]\n",
    "\n",
    "# Initial conditions are given as a list of variable-initial value pairs\n",
    "u0 = [ :M => 0 ]\n",
    "\n",
    "# Simulation length\n",
    "tmax = 10.;"
   ]
  },
  {
   "cell_type": "markdown",
   "id": "20",
   "metadata": {},
   "source": [
    "To numerically solve our ODEs we can use DifferentialEquations.jl. For this purpose we set up an `ODEProblem` with our equation and the chosen parameters and initial values. DifferentialEquations takes care of choosing the right numerical solvers, tolerances and step sizes, so a simple call to `solve` is all that is necessary to solve our ODE problem."
   ]
  },
  {
   "cell_type": "code",
   "execution_count": null,
   "id": "21",
   "metadata": {},
   "outputs": [],
   "source": [
    "using DifferentialEquations\n",
    "\n",
    "prob = ODEProblem(rn, u0, (0, tmax), p)\n",
    "sol = solve(prob);"
   ]
  },
  {
   "cell_type": "markdown",
   "id": "22",
   "metadata": {},
   "source": [
    "We can access the solution variables using bracket notation, as if the solution was a dictionary. Here the colon `:` is used to mark $M$ as the name of a variable, like a string. We used the same notation above when we specified parameters and initial values. "
   ]
  },
  {
   "cell_type": "code",
   "execution_count": null,
   "id": "23",
   "metadata": {},
   "outputs": [],
   "source": [
    "sol[:M]         # Returns an array"
   ]
  },
  {
   "cell_type": "markdown",
   "id": "24",
   "metadata": {},
   "source": [
    "The solution times are given by `sol.t`:"
   ]
  },
  {
   "cell_type": "code",
   "execution_count": null,
   "id": "25",
   "metadata": {},
   "outputs": [],
   "source": [
    "sol.t           # Another array"
   ]
  },
  {
   "cell_type": "markdown",
   "id": "26",
   "metadata": {},
   "source": [
    "We can then easily [plot](https://docs.sciml.ai/DiffEqDocs/stable/basics/plot/) the obtained solution for $M$ using [Plots.jl](https://github.com/JuliaPlots/Plots.jl)"
   ]
  },
  {
   "cell_type": "code",
   "execution_count": null,
   "id": "27",
   "metadata": {},
   "outputs": [],
   "source": [
    "using Plots\n",
    "\n",
    "plot(sol.t, sol[:M], \n",
    "     xlabel=\"Time\", \n",
    "     ylabel=\"Molecules\",\n",
    "     label=\"mRNA\")"
   ]
  },
  {
   "cell_type": "markdown",
   "id": "28",
   "metadata": {},
   "source": [
    "In the above plot, we notice that mRNA numbers behave weirdly - at places we have $0.3$, $1.8$ or $3.3$ molecules! This is clearly not realistic.\n",
    "\n",
    "The problem is that ordinary differential equations treat `M` as a continuous variable that can take on any value. While this is a good approximation when mRNA numbers are very large (so they can take on many different values), this does not seem appropriate here. In reality we want mRNA numbers to be discrete, that is increase by $1$ whenever transcription happens, and decrease by $1$ whenever degradation occurs. To achieve this we treat our system as a jump differential equation, where jumps (transcription or degradation) happen at random times.\n",
    "\n",
    "Constructing a `JumpProblem` is almost as easy as an `ODEProblem`. Again we need the reaction network, initial conditions and parameters."
   ]
  },
  {
   "cell_type": "code",
   "execution_count": null,
   "id": "29",
   "metadata": {},
   "outputs": [],
   "source": [
    "jinp = JumpInputs(rn, u0, (0, tmax), p)\n",
    "prob = JumpProblem(jinp);"
   ]
  },
  {
   "cell_type": "markdown",
   "id": "30",
   "metadata": {},
   "source": [
    "We solve this equation as before, using the `solve` function. Again, DifferentialEquations takes care of choosing the correct solver for us. In this case it uses the Stochastic Simulation Algorithm (SSA), also known as the [Gillespie algorithm](https://en.wikipedia.org/wiki/Gillespie_algorithm)."
   ]
  },
  {
   "cell_type": "code",
   "execution_count": null,
   "id": "31",
   "metadata": {},
   "outputs": [],
   "source": [
    "sol = solve(prob);"
   ]
  },
  {
   "cell_type": "markdown",
   "id": "32",
   "metadata": {},
   "source": [
    "Plotting the solution we see that mRNA numbers are now discrete, as they should be. The result of the above simulation is stochastic: if we run `solve` again, we get a different trajectory."
   ]
  },
  {
   "cell_type": "code",
   "execution_count": null,
   "id": "33",
   "metadata": {},
   "outputs": [],
   "source": [
    "plot(sol.t, sol[:M], \n",
    "     xlabel=\"Time\", \n",
    "     ylabel=\"Molecules\",\n",
    "     label=\"mRNA\", \n",
    "     linetype=:steppost)"
   ]
  },
  {
   "cell_type": "markdown",
   "id": "34",
   "metadata": {},
   "source": [
    "### Exercises:\n",
    "* What effect does changing $\\rho_m$ have on the trajectories of the system? What about $\\delta_m$?\n",
    "* Running $100$ simulations, create a histogram of mRNA numbers at the end of each simulation. What does this look like? Can you estimate the average number of mRNA? Its variance?\n",
    "* Do the same, but now run the simulations until time $t = 1$. What do you observe?\n",
    "\n",
    "**Note:** You can use the `histogram(values)` function in Plots to plot histograms."
   ]
  },
  {
   "cell_type": "markdown",
   "id": "35",
   "metadata": {},
   "source": [
    "## Gene regulation"
   ]
  },
  {
   "cell_type": "markdown",
   "id": "36",
   "metadata": {},
   "source": [
    "![Telegraph model](figures/telegraph_model.svg)"
   ]
  },
  {
   "cell_type": "markdown",
   "id": "37",
   "metadata": {},
   "source": [
    "Our initial model is clearly unrealistic, since mRNA do not pop out of thin air. They are transcribed from a gene $G$, which can be transcriptionally active (on) or inactive (off). We therefore introduce two new species, $G_{on}$ and $G_{off}$, and allow switching between the states with rates $\\sigma_{on}$ and $\\sigma_{off}$ — this model of gene expression is also known as the telegraph model."
   ]
  },
  {
   "cell_type": "code",
   "execution_count": null,
   "id": "38",
   "metadata": {},
   "outputs": [],
   "source": [
    "rn = @reaction_network begin\n",
    "    σ_on, G_off --> G_on      # gene activation\n",
    "    σ_off, G_on --> G_off     # gene inactivation\n",
    "    \n",
    "    ρ_m, G_on --> G_on + M    # mRNA transcription\n",
    "    δ_m, M --> 0              # mRNA degradation\n",
    "end"
   ]
  },
  {
   "cell_type": "markdown",
   "id": "39",
   "metadata": {},
   "source": [
    "We have to update our parameters and initial conditions:"
   ]
  },
  {
   "cell_type": "code",
   "execution_count": null,
   "id": "40",
   "metadata": {},
   "outputs": [],
   "source": [
    "# Model parameters\n",
    "p = [ :σ_on => 1,\n",
    "      :σ_off => 1,\n",
    "    \n",
    "      :ρ_m => 5, \n",
    "      :δ_m => 0.5 ]\n",
    "\n",
    "# Start with the gene in the off state\n",
    "u0 = [ :G_off => 1, :G_on => 0, :M => 0 ];"
   ]
  },
  {
   "cell_type": "markdown",
   "id": "41",
   "metadata": {},
   "source": [
    "As before we can convert this into a jump differential equation and solve it:"
   ]
  },
  {
   "cell_type": "code",
   "execution_count": null,
   "id": "42",
   "metadata": {},
   "outputs": [],
   "source": [
    "jinp = JumpInputs(rn, u0, (0, tmax), p)\n",
    "prob = JumpProblem(jinp);"
   ]
  },
  {
   "cell_type": "code",
   "execution_count": null,
   "id": "43",
   "metadata": {},
   "outputs": [],
   "source": [
    "sol = solve(prob);"
   ]
  },
  {
   "cell_type": "code",
   "execution_count": null,
   "id": "44",
   "metadata": {},
   "outputs": [],
   "source": [
    "plot(sol.t, sol[:M], \n",
    "     xlabel=\"Time\", \n",
    "     ylabel=\"Molecules\",\n",
    "     label=\"M\", \n",
    "     linetype=:steppost)\n",
    "\n",
    "plot!(sol.t, \n",
    "      sol[:G_on], \n",
    "      label=\"G_on\", \n",
    "      linetype=:steppost)"
   ]
  },
  {
   "cell_type": "markdown",
   "id": "45",
   "metadata": {},
   "source": [
    "Here the `plot!` function overwrites the previous plot, so that we can observe both mRNA activity and the gene state in one figure. Note that mRNA numbers only increase when the gene is active (but they can decrease at any time)."
   ]
  },
  {
   "cell_type": "markdown",
   "id": "46",
   "metadata": {},
   "source": [
    "### Exercises:\n",
    "* Can you estimate the probability that the gene is on at time $t = 10$? How does changing the switching rates $\\sigma_{on}$ and $\\sigma_{off}$ affect this?\n",
    "* Why did we introduce two species, $G_{on}$ and $G_{off}$? Consider what happens if you model the system using one species $G$ with the following reactions for activation and inactivation:\n",
    "\n",
    "$$ 0 \\longrightarrow G $$\n",
    "$$ G \\longrightarrow 0 $$"
   ]
  },
  {
   "cell_type": "markdown",
   "id": "47",
   "metadata": {},
   "source": [
    "## Adding protein"
   ]
  },
  {
   "cell_type": "markdown",
   "id": "48",
   "metadata": {},
   "source": [
    "![Telegraph model with protein translation](figures/telegraph_model_with_translation.svg)"
   ]
  },
  {
   "cell_type": "markdown",
   "id": "49",
   "metadata": {},
   "source": [
    "This section is an exercise. The goal is to add protein to the previous reaction system. We assume that the protein (which we denote $P$) is translated from mRNA at rate $\\rho_p$, and degraded with rate $\\delta_m$. Add these two reactions to the previous reaction network, simulate the system and plot the solution. You can use the parameter values $\\rho_p = 10$ and $\\delta_p = 0.1$, or come up with your own."
   ]
  },
  {
   "cell_type": "markdown",
   "id": "50",
   "metadata": {},
   "source": [
    "## Feedback"
   ]
  },
  {
   "cell_type": "markdown",
   "id": "51",
   "metadata": {},
   "source": [
    "![Feedback loop](figures/feedback_model.svg)"
   ]
  },
  {
   "cell_type": "markdown",
   "id": "52",
   "metadata": {},
   "source": [
    "Our previous model of gene expression is very simplistic, in that the gene switches on and off at random times without us specifying exactly how that happens. Many genes self-regulate, that is, they promote or repress their own transcription. We can modify our previous system to model a positive feedback loop. We assume that our protein $P$ binds to its own transcription start site and prevents deactivation of the gene. We implement this by incorporating the protein concentration in the gene inactivation mechanism, using a repressive Michaelis-Menten equation (the function `mmr` in Catalyst):"
   ]
  },
  {
   "cell_type": "code",
   "execution_count": null,
   "id": "53",
   "metadata": {},
   "outputs": [],
   "source": [
    "rn = @reaction_network begin\n",
    "    σ_on, G_off --> G_on      # gene activation\n",
    "    \n",
    "    # gene inactivation now depends on protein numbers\n",
    "    mmr(P, σ_off, K), G_on --> G_off\n",
    "    \n",
    "    ρ_m, G_on --> G_on + M    # transcription\n",
    "    δ_m, M --> 0              # mRNA degradation\n",
    "\n",
    "    ρ_p, M --> M + P          # translation\n",
    "    δ_p, P --> 0              # protein degradation\n",
    "end"
   ]
  },
  {
   "cell_type": "markdown",
   "id": "54",
   "metadata": {},
   "source": [
    "Here the gene inactivation rate is\n",
    "\n",
    "$$ \\sigma_{off} \\cdot \\frac{K}{K + P} $$\n",
    "\n",
    "which is inhibiting for high $P$. For $P = 0$, this is simply $\\sigma_{off}$, so nothing changes. As $P$ increases, the rate decreases; at concentration $K$, inactivation is only 50% as fast, and as $P$ increases beyond that, the reaction rate approaches $0$. "
   ]
  },
  {
   "cell_type": "code",
   "execution_count": null,
   "id": "55",
   "metadata": {},
   "outputs": [],
   "source": [
    "# Model parameters\n",
    "p = [ :σ_on => 1,\n",
    "      :σ_off => 1,\n",
    "      :K => 40,\n",
    "    \n",
    "      :ρ_m => 5, \n",
    "      :δ_m => 0.5,\n",
    "\n",
    "      :ρ_p => 10,\n",
    "      :δ_p => 1 ]\n",
    "\n",
    "# Start with the gene in the off state\n",
    "u0 = [ :G_off => 1, :G_on => 0, :M => 0, :P => 0 ];\n",
    "\n",
    "tmax = 50.;"
   ]
  },
  {
   "cell_type": "markdown",
   "id": "56",
   "metadata": {},
   "source": [
    "As before we can convert this into a jump differential equation and solve it:"
   ]
  },
  {
   "cell_type": "code",
   "execution_count": null,
   "id": "57",
   "metadata": {},
   "outputs": [],
   "source": [
    "jinp = JumpInputs(rn, u0, (0, tmax), p)\n",
    "prob = JumpProblem(jinp);"
   ]
  },
  {
   "cell_type": "code",
   "execution_count": null,
   "id": "58",
   "metadata": {},
   "outputs": [],
   "source": [
    "sol = solve(prob);"
   ]
  },
  {
   "cell_type": "code",
   "execution_count": null,
   "id": "59",
   "metadata": {},
   "outputs": [],
   "source": [
    "plot(sol.t, sol[:M], \n",
    "     xlabel=\"Time\", \n",
    "     ylabel=\"Molecules\",\n",
    "     label=\"M\", \n",
    "     linetype=:steppost)\n",
    "\n",
    "plot!(sol.t, \n",
    "      sol[:G_on], \n",
    "      label=\"G_on\", \n",
    "      linetype=:steppost)"
   ]
  },
  {
   "cell_type": "code",
   "execution_count": null,
   "id": "60",
   "metadata": {},
   "outputs": [],
   "source": [
    "plot(sol.t, sol[:P], \n",
    "     xlabel=\"Time\", \n",
    "     ylabel=\"Molecules\",\n",
    "     label=\"P\", \n",
    "     linetype=:steppost)"
   ]
  },
  {
   "cell_type": "markdown",
   "id": "61",
   "metadata": {},
   "source": [
    "### Exercises\n",
    "* What are other ways in which positive autoregulation could be built into this system? Think about examples of positive feedback you have encountered in biological systems.\n",
    "* How could you incorporate negative feedback into this system? How does the system behave in this case?"
   ]
  },
  {
   "cell_type": "markdown",
   "id": "62",
   "metadata": {},
   "source": [
    "## Responding to the environment"
   ]
  },
  {
   "cell_type": "markdown",
   "id": "63",
   "metadata": {},
   "source": [
    "While some genes are expressed throughout the life cycle of a cell, others are only activated by certain signals. Many heat shock proteins (HSPs) are induced as a response to cellular stress, and some bacteria produce certain enzymes only when they detect the corresponding substrate. A very well studied example of this is the *lac* operon in *E. coli*, which cells can use to digest lactase when glucose is absent. In this section we will build a drastically simplified version of what happens in that operon."
   ]
  },
  {
   "cell_type": "markdown",
   "id": "64",
   "metadata": {},
   "source": [
    "The *lac* operon contains two genes involved in lactose metabolism: *lacZ*, which cleaves lactose into glucose and galactose, and *lacY*, which transports lactose into the cell. Expression of these genes is normally deactivated by another gene (*lacI*) that acts as a repressor and blocks the transcription of mRNA from the operon. Certain lactase metabolites bind to the repressor and deactivate it, which allows for the production of *lacY* and *lacZ*. "
   ]
  },
  {
   "cell_type": "markdown",
   "id": "65",
   "metadata": {},
   "source": [
    "The *lac* operon can be induced by the chemical IPTG (*Isopropyl β-D-thiogalactopyranoside*), which mimics a lactose metabolite and also activates the *lac* operon. We can induce *lac* expression in a controlled manner by introducing IPTG into the cell culture. We extend our previous model by adding another reaction that depends on the measured IPTG concentration and promotes gene deactivation. We assume that the extracellular lactose concentration is described by the following function:"
   ]
  },
  {
   "cell_type": "code",
   "execution_count": null,
   "id": "66",
   "metadata": {},
   "outputs": [],
   "source": [
    "using LogExpFunctions\n",
    "\n",
    "function iptg_conc(t)\n",
    "    return 5e-4 * logistic(10t - 60) * logistic(120 - 10t)\n",
    "end;"
   ]
  },
  {
   "cell_type": "code",
   "execution_count": null,
   "id": "67",
   "metadata": {},
   "outputs": [],
   "source": [
    "xx = 0:0.1:50.             # Plot values from t = 0 to 50\n",
    "yy = iptg_conc.(xx)        # The dot computes the lactose concentration for each value of x\n",
    "\n",
    "plot(xx, yy, xlabel=\"Time\", ylabel=\"Concentration\", label=\"IPTG\")"
   ]
  },
  {
   "cell_type": "markdown",
   "id": "68",
   "metadata": {},
   "source": [
    "In this model, the protein (now named *lacZ*) metabolises lactose at a constant rate into allolactose, a sugar that promotes the *lac* operon much like IPTG. This is again a simplification, as we do not model lactose explicitly - in reality we would have to introduce the protein *lacY*, which transports lactose into the cell. We can justify our choice if we assume that lactose is already abundantly present in the cell, so that its concentration is effectively constant."
   ]
  },
  {
   "cell_type": "code",
   "execution_count": null,
   "id": "69",
   "metadata": {},
   "outputs": [],
   "source": [
    "rn = @reaction_network begin\n",
    "    σ_on, G_off --> G_on      # gene activation\n",
    "    \n",
    "    # gene inactivation due to either IPTG or allolactase\n",
    "    mmr(iptg_conc(t) + A / V, σ_off, K), G_on --> G_off\n",
    "    \n",
    "    ρ_m, G_on --> G_on + M    # transcription\n",
    "    δ_m, M --> 0              # mRNA degradation\n",
    "\n",
    "    ρ_p, M --> M + lacZ       # translation\n",
    "    δ_p, lacZ --> 0           # protein degradation\n",
    "\n",
    "    μ_a, lacZ --> lacZ + A    # allolactose production (ignore the lactos that gets spent)\n",
    "    δ_a, A --> 0              # allolactose degradation\n",
    "end"
   ]
  },
  {
   "cell_type": "markdown",
   "id": "70",
   "metadata": {},
   "source": [
    "Here the gene inactivation rate is\n",
    "\n",
    "$$ \\sigma_{off} \\cdot \\frac{K}{K + [IPTG] + [A]} $$\n",
    "\n",
    "which means that both $IPTG$ and allolactase $A$ have the same effect, of blocking deactivation of the gene. Here the square brackets denote concentrations. We compute the concentration of $A$ by dividing the number of molecules by the cell volume and does not have to be modelled explicitly."
   ]
  },
  {
   "cell_type": "code",
   "execution_count": null,
   "id": "71",
   "metadata": {},
   "outputs": [],
   "source": [
    "# Parameters. Note that these are highly biologically unrealistic\n",
    "p = [ :σ_on => 1,\n",
    "      :σ_off => 50,\n",
    "    \n",
    "      :K => 1e-5,\n",
    "      :V => 2e5,\n",
    "    \n",
    "      :ρ_m => 2, \n",
    "      :δ_m => 2,\n",
    "\n",
    "      :ρ_p => 2,\n",
    "      :δ_p => 0.2,\n",
    "\n",
    "      :μ_a => 100,\n",
    "      :δ_a => 2 ]\n",
    "\n",
    "u0 = [ :G_off => 1, :G_on => 0, :M => 0, :lacZ => 0, :A => 0 ];\n",
    "\n",
    "tmax = 50.;"
   ]
  },
  {
   "cell_type": "code",
   "execution_count": null,
   "id": "72",
   "metadata": {},
   "outputs": [],
   "source": [
    "jinp = JumpInputs(rn, u0, (0, tmax), p)\n",
    "prob = JumpProblem(jinp);"
   ]
  },
  {
   "cell_type": "markdown",
   "id": "73",
   "metadata": {},
   "source": [
    "Since we are now using a time-dependent reaction (via the IPTG concentration), we cannot use the SSA to solve the equations. As DifferentialEquations is unsure what solver to use in this case, we will use a standard ODE solver (`Tsit5`)."
   ]
  },
  {
   "cell_type": "code",
   "execution_count": null,
   "id": "74",
   "metadata": {},
   "outputs": [],
   "source": [
    "sol = solve(prob, Tsit5());"
   ]
  },
  {
   "cell_type": "code",
   "execution_count": null,
   "id": "75",
   "metadata": {},
   "outputs": [],
   "source": [
    "plot(sol.t, sol[:M], \n",
    "     xlabel=\"Time\", \n",
    "     ylabel=\"Molecules\",\n",
    "     label=\"M\", \n",
    "     linetype=:steppost)\n",
    "\n",
    "plot!(sol.t, \n",
    "      sol[:G_on], \n",
    "      label=\"G_on\", \n",
    "      linetype=:steppost)"
   ]
  },
  {
   "cell_type": "code",
   "execution_count": null,
   "id": "76",
   "metadata": {},
   "outputs": [],
   "source": [
    "plot(sol.t, sol[:lacZ], \n",
    "     xlabel=\"Time\", \n",
    "     ylabel=\"Molecules\",\n",
    "     label=\"P\", \n",
    "     linetype=:steppost)"
   ]
  },
  {
   "cell_type": "code",
   "execution_count": null,
   "id": "77",
   "metadata": {},
   "outputs": [],
   "source": [
    "plot(sol.t, sol[:A], \n",
    "     xlabel=\"Time\", \n",
    "     ylabel=\"Molecules\",\n",
    "     label=\"P\", \n",
    "     linetype=:steppost)"
   ]
  }
 ],
 "metadata": {
  "kernelspec": {
   "display_name": "Julia 1.11.0",
   "language": "julia",
   "name": "julia-1.11"
  },
  "language_info": {
   "file_extension": ".jl",
   "mimetype": "application/julia",
   "name": "julia",
   "version": "1.11.0"
  }
 },
 "nbformat": 4,
 "nbformat_minor": 5
}
